{
 "cells": [
  {
   "cell_type": "markdown",
   "metadata": {},
   "source": [
    "# Entendendo o mercado de vendas de jogos digitais"
   ]
  },
  {
   "cell_type": "markdown",
   "metadata": {},
   "source": [
    "Segundo o Wikipedia,videogame é um jogo na qual o jogador interage conectando um joystic e/ou teclado a uma televisão/monitor,sendo antes conhecido como um meio de diversão para crianças . Provavelmente, você já sabe o que é ,porém, algo que talvez não saiba,é que nas últimas décadas,o videogame vem conquistando cada vez mais público,desde crianças até adultos,e havendo recomendações médicas para idosos jogarem para melhorar a memória,e com isso o mercado de vendas de videogame vem crescendo muito e obtendo cifras milionárias . Então,nesse projeto,analisarei o banco de dados \"vgsales.csv\",presente no kaggle, e tentarei entender através de uma análise exploratória esse mercado de vendas digitais, e responder as seguintes perguntas : "
   ]
  },
  {
   "cell_type": "markdown",
   "metadata": {},
   "source": [
    "Quais são os jogos com o maior faturamento  ?  Quais são os jogos com o menor faturamento ?\n",
    "\n",
    "Quais são os gêneros com o maior faturamento médio ? E os gêneros com menor  ?\n",
    "\n",
    "Quais são as publicadoras que mais faturam no mundo ? E as que menos faturam ?\n",
    "\n",
    "Quais são as plataformas que mais faturaram ? E as que menos faturaram ?\n",
    "\n",
    "Como o faturamento global é relacionado com o faturamento na Europa,América do Norte,Japão,e no resto do mundo ? "
   ]
  },
  {
   "cell_type": "markdown",
   "metadata": {},
   "source": [
    "#Importando as bibliotecas que utilizarei "
   ]
  },
  {
   "cell_type": "code",
   "execution_count": 1,
   "metadata": {},
   "outputs": [],
   "source": [
    "import pandas as pd\n",
    "import matplotlib.pyplot as plt\n",
    "import seaborn as sns"
   ]
  },
  {
   "cell_type": "markdown",
   "metadata": {},
   "source": [
    "#Lendo o dataset\n",
    "\n",
    "Com o comando \"pd.read_csv\" leio os dados do dataset \"vgsales.csv\" ,e armazeno na variável \"dados\" . E então,aplico a função head do pandas para imprimir as 5 primeiras linhas . "
   ]
  },
  {
   "cell_type": "code",
   "execution_count": 2,
   "metadata": {},
   "outputs": [
    {
     "data": {
      "text/html": [
       "<div>\n",
       "<style scoped>\n",
       "    .dataframe tbody tr th:only-of-type {\n",
       "        vertical-align: middle;\n",
       "    }\n",
       "\n",
       "    .dataframe tbody tr th {\n",
       "        vertical-align: top;\n",
       "    }\n",
       "\n",
       "    .dataframe thead th {\n",
       "        text-align: right;\n",
       "    }\n",
       "</style>\n",
       "<table border=\"1\" class=\"dataframe\">\n",
       "  <thead>\n",
       "    <tr style=\"text-align: right;\">\n",
       "      <th></th>\n",
       "      <th>Rank</th>\n",
       "      <th>Name</th>\n",
       "      <th>Platform</th>\n",
       "      <th>Year</th>\n",
       "      <th>Genre</th>\n",
       "      <th>Publisher</th>\n",
       "      <th>NA_Sales</th>\n",
       "      <th>EU_Sales</th>\n",
       "      <th>JP_Sales</th>\n",
       "      <th>Other_Sales</th>\n",
       "      <th>Global_Sales</th>\n",
       "    </tr>\n",
       "  </thead>\n",
       "  <tbody>\n",
       "    <tr>\n",
       "      <th>0</th>\n",
       "      <td>1</td>\n",
       "      <td>Wii Sports</td>\n",
       "      <td>Wii</td>\n",
       "      <td>2006.0</td>\n",
       "      <td>Sports</td>\n",
       "      <td>Nintendo</td>\n",
       "      <td>41.49</td>\n",
       "      <td>29.02</td>\n",
       "      <td>3.77</td>\n",
       "      <td>8.46</td>\n",
       "      <td>82.74</td>\n",
       "    </tr>\n",
       "    <tr>\n",
       "      <th>1</th>\n",
       "      <td>2</td>\n",
       "      <td>Super Mario Bros.</td>\n",
       "      <td>NES</td>\n",
       "      <td>1985.0</td>\n",
       "      <td>Platform</td>\n",
       "      <td>Nintendo</td>\n",
       "      <td>29.08</td>\n",
       "      <td>3.58</td>\n",
       "      <td>6.81</td>\n",
       "      <td>0.77</td>\n",
       "      <td>40.24</td>\n",
       "    </tr>\n",
       "    <tr>\n",
       "      <th>2</th>\n",
       "      <td>3</td>\n",
       "      <td>Mario Kart Wii</td>\n",
       "      <td>Wii</td>\n",
       "      <td>2008.0</td>\n",
       "      <td>Racing</td>\n",
       "      <td>Nintendo</td>\n",
       "      <td>15.85</td>\n",
       "      <td>12.88</td>\n",
       "      <td>3.79</td>\n",
       "      <td>3.31</td>\n",
       "      <td>35.82</td>\n",
       "    </tr>\n",
       "    <tr>\n",
       "      <th>3</th>\n",
       "      <td>4</td>\n",
       "      <td>Wii Sports Resort</td>\n",
       "      <td>Wii</td>\n",
       "      <td>2009.0</td>\n",
       "      <td>Sports</td>\n",
       "      <td>Nintendo</td>\n",
       "      <td>15.75</td>\n",
       "      <td>11.01</td>\n",
       "      <td>3.28</td>\n",
       "      <td>2.96</td>\n",
       "      <td>33.00</td>\n",
       "    </tr>\n",
       "    <tr>\n",
       "      <th>4</th>\n",
       "      <td>5</td>\n",
       "      <td>Pokemon Red/Pokemon Blue</td>\n",
       "      <td>GB</td>\n",
       "      <td>1996.0</td>\n",
       "      <td>Role-Playing</td>\n",
       "      <td>Nintendo</td>\n",
       "      <td>11.27</td>\n",
       "      <td>8.89</td>\n",
       "      <td>10.22</td>\n",
       "      <td>1.00</td>\n",
       "      <td>31.37</td>\n",
       "    </tr>\n",
       "  </tbody>\n",
       "</table>\n",
       "</div>"
      ],
      "text/plain": [
       "   Rank                      Name Platform    Year         Genre Publisher  \\\n",
       "0     1                Wii Sports      Wii  2006.0        Sports  Nintendo   \n",
       "1     2         Super Mario Bros.      NES  1985.0      Platform  Nintendo   \n",
       "2     3            Mario Kart Wii      Wii  2008.0        Racing  Nintendo   \n",
       "3     4         Wii Sports Resort      Wii  2009.0        Sports  Nintendo   \n",
       "4     5  Pokemon Red/Pokemon Blue       GB  1996.0  Role-Playing  Nintendo   \n",
       "\n",
       "   NA_Sales  EU_Sales  JP_Sales  Other_Sales  Global_Sales  \n",
       "0     41.49     29.02      3.77         8.46         82.74  \n",
       "1     29.08      3.58      6.81         0.77         40.24  \n",
       "2     15.85     12.88      3.79         3.31         35.82  \n",
       "3     15.75     11.01      3.28         2.96         33.00  \n",
       "4     11.27      8.89     10.22         1.00         31.37  "
      ]
     },
     "execution_count": 2,
     "metadata": {},
     "output_type": "execute_result"
    }
   ],
   "source": [
    "dados=pd.read_csv(\"vgsales.csv\")\n",
    "dados.head()"
   ]
  },
  {
   "cell_type": "markdown",
   "metadata": {},
   "source": [
    "Então,podemos conhecer com quantas variáveis,e quantas observações o banco de dados é composto com a função shape,onde o eixo x representa o número de linhas,e o eixo y o número de variáveis ."
   ]
  },
  {
   "cell_type": "code",
   "execution_count": 3,
   "metadata": {},
   "outputs": [
    {
     "data": {
      "text/plain": [
       "(16598, 11)"
      ]
     },
     "execution_count": 3,
     "metadata": {},
     "output_type": "execute_result"
    }
   ],
   "source": [
    "dados.shape"
   ]
  },
  {
   "cell_type": "markdown",
   "metadata": {},
   "source": [
    "Com o resultado do comando shape,pode-se observar que o banco de dados é composto por 16598 observações,e 11 variáveis descritas a seguir . Porém,antes de descrever as variáveis irei traduzi-las para o português com o comando columns ."
   ]
  },
  {
   "cell_type": "code",
   "execution_count": 4,
   "metadata": {},
   "outputs": [],
   "source": [
    "dados.columns=[\"Classificacao\",\"Nome\",\"Plataforma\",\"Ano\",\"Genero\",\"Publicadora\",\"Vendas_AmericaDoNorte\",\"Vendas_Europa\",\"Vendas_Japao\",\"Vendas_Outros\",\"Vendas_Global\"]"
   ]
  },
  {
   "cell_type": "markdown",
   "metadata": {},
   "source": [
    "# Descrição das variáveis : \n",
    "\n",
    "**Classificacao** :  Classificação do jogo no ranking de mais vendidos \n",
    "\n",
    "**Nome** : Nome do jogo\n",
    "    \n",
    "**Plataforma** : Plataforma onde o jogo foi lançados,por exemplo,PS2,PS3,Wii,etc\n",
    "\n",
    "**Ano** : Ano em que o jogo foi lançado \n",
    "\n",
    "**Gênero** : Gênero do jogo,podendo ser de ação,esportes,etc\n",
    "    \n",
    "**Publicadora** : Empresa que publicou o jogo\n",
    "    \n",
    "**Vendas_AmericaDoNorte** : Faturamento em vendas do jogo na América do Norte (Em milhões de dólares)\n",
    "    \n",
    "**Vendas_Europa** : Faturamento em vendas do jogo na Europa (Em milhões de dólares)\n",
    "    \n",
    "**Vendas_Japao** : Faturamento em vendas do jogo no Japão (Em milhões de dólares)\n",
    "    \n",
    "**Vendas_Outros** : Faturamento em vendas em outros lugares do mundo (Em milhões de dólares)\n",
    "\n",
    "**Vendas_Global** : Faturamento do jogo no mundo (Em milhões de dólares)\n"
   ]
  },
  {
   "cell_type": "markdown",
   "metadata": {},
   "source": [
    "Então,pode-se conhecer como o Pandas está tratando as variáveis com o comando dtypes ."
   ]
  },
  {
   "cell_type": "code",
   "execution_count": 5,
   "metadata": {},
   "outputs": [
    {
     "data": {
      "text/plain": [
       "Classificacao              int64\n",
       "Nome                      object\n",
       "Plataforma                object\n",
       "Ano                      float64\n",
       "Genero                    object\n",
       "Publicadora               object\n",
       "Vendas_AmericaDoNorte    float64\n",
       "Vendas_Europa            float64\n",
       "Vendas_Japao             float64\n",
       "Vendas_Outros            float64\n",
       "Vendas_Global            float64\n",
       "dtype: object"
      ]
     },
     "execution_count": 5,
     "metadata": {},
     "output_type": "execute_result"
    }
   ],
   "source": [
    "dados.dtypes"
   ]
  },
  {
   "cell_type": "markdown",
   "metadata": {},
   "source": [
    "#Análise exploratória "
   ]
  },
  {
   "cell_type": "markdown",
   "metadata": {},
   "source": [
    "Em seguida,é possivel conhecer as medidas sumárias das variáveis quantitativas relacionadas a vendas de jogos com o comando describe ."
   ]
  },
  {
   "cell_type": "code",
   "execution_count": 6,
   "metadata": {},
   "outputs": [
    {
     "data": {
      "text/html": [
       "<div>\n",
       "<style scoped>\n",
       "    .dataframe tbody tr th:only-of-type {\n",
       "        vertical-align: middle;\n",
       "    }\n",
       "\n",
       "    .dataframe tbody tr th {\n",
       "        vertical-align: top;\n",
       "    }\n",
       "\n",
       "    .dataframe thead th {\n",
       "        text-align: right;\n",
       "    }\n",
       "</style>\n",
       "<table border=\"1\" class=\"dataframe\">\n",
       "  <thead>\n",
       "    <tr style=\"text-align: right;\">\n",
       "      <th></th>\n",
       "      <th>Vendas_AmericaDoNorte</th>\n",
       "      <th>Vendas_Europa</th>\n",
       "      <th>Vendas_Japao</th>\n",
       "      <th>Vendas_Outros</th>\n",
       "      <th>Vendas_Global</th>\n",
       "    </tr>\n",
       "  </thead>\n",
       "  <tbody>\n",
       "    <tr>\n",
       "      <th>count</th>\n",
       "      <td>16598.000000</td>\n",
       "      <td>16598.000000</td>\n",
       "      <td>16598.000000</td>\n",
       "      <td>16598.000000</td>\n",
       "      <td>16598.000000</td>\n",
       "    </tr>\n",
       "    <tr>\n",
       "      <th>mean</th>\n",
       "      <td>0.264667</td>\n",
       "      <td>0.146652</td>\n",
       "      <td>0.077782</td>\n",
       "      <td>0.048063</td>\n",
       "      <td>0.537441</td>\n",
       "    </tr>\n",
       "    <tr>\n",
       "      <th>std</th>\n",
       "      <td>0.816683</td>\n",
       "      <td>0.505351</td>\n",
       "      <td>0.309291</td>\n",
       "      <td>0.188588</td>\n",
       "      <td>1.555028</td>\n",
       "    </tr>\n",
       "    <tr>\n",
       "      <th>min</th>\n",
       "      <td>0.000000</td>\n",
       "      <td>0.000000</td>\n",
       "      <td>0.000000</td>\n",
       "      <td>0.000000</td>\n",
       "      <td>0.010000</td>\n",
       "    </tr>\n",
       "    <tr>\n",
       "      <th>25%</th>\n",
       "      <td>0.000000</td>\n",
       "      <td>0.000000</td>\n",
       "      <td>0.000000</td>\n",
       "      <td>0.000000</td>\n",
       "      <td>0.060000</td>\n",
       "    </tr>\n",
       "    <tr>\n",
       "      <th>50%</th>\n",
       "      <td>0.080000</td>\n",
       "      <td>0.020000</td>\n",
       "      <td>0.000000</td>\n",
       "      <td>0.010000</td>\n",
       "      <td>0.170000</td>\n",
       "    </tr>\n",
       "    <tr>\n",
       "      <th>75%</th>\n",
       "      <td>0.240000</td>\n",
       "      <td>0.110000</td>\n",
       "      <td>0.040000</td>\n",
       "      <td>0.040000</td>\n",
       "      <td>0.470000</td>\n",
       "    </tr>\n",
       "    <tr>\n",
       "      <th>max</th>\n",
       "      <td>41.490000</td>\n",
       "      <td>29.020000</td>\n",
       "      <td>10.220000</td>\n",
       "      <td>10.570000</td>\n",
       "      <td>82.740000</td>\n",
       "    </tr>\n",
       "  </tbody>\n",
       "</table>\n",
       "</div>"
      ],
      "text/plain": [
       "       Vendas_AmericaDoNorte  Vendas_Europa  Vendas_Japao  Vendas_Outros  \\\n",
       "count           16598.000000   16598.000000  16598.000000   16598.000000   \n",
       "mean                0.264667       0.146652      0.077782       0.048063   \n",
       "std                 0.816683       0.505351      0.309291       0.188588   \n",
       "min                 0.000000       0.000000      0.000000       0.000000   \n",
       "25%                 0.000000       0.000000      0.000000       0.000000   \n",
       "50%                 0.080000       0.020000      0.000000       0.010000   \n",
       "75%                 0.240000       0.110000      0.040000       0.040000   \n",
       "max                41.490000      29.020000     10.220000      10.570000   \n",
       "\n",
       "       Vendas_Global  \n",
       "count   16598.000000  \n",
       "mean        0.537441  \n",
       "std         1.555028  \n",
       "min         0.010000  \n",
       "25%         0.060000  \n",
       "50%         0.170000  \n",
       "75%         0.470000  \n",
       "max        82.740000  "
      ]
     },
     "execution_count": 6,
     "metadata": {},
     "output_type": "execute_result"
    }
   ],
   "source": [
    "varquantitativas=dados[[\"Vendas_AmericaDoNorte\",\"Vendas_Europa\",\"Vendas_Japao\",\"Vendas_Outros\",\"Vendas_Global\"]]\n",
    "varquantitativas.describe()"
   ]
  },
  {
   "cell_type": "markdown",
   "metadata": {},
   "source": [
    "Ao se analisar as medidas sumárias,pode-se observar que 75% das vendas globais têm um faturamento de até 0.47 milhões de dólares,porém o valor máximo chega até a 82.74 milhões de dólares .Em todas as regiões há jogos que não faturaram . Outra análise possivel de se verificar é que em termos de região,a América do Norte,é a região que houve um jogo que mais faturou . \n",
    "\n",
    "Por fim,podemos verificar como os resultados das vendas nessas regiões estão correlacionadas com a variável de venda global através de uma matriz de correlação . Lembrando que um coeficiente de correlação próximo de 1 entre duas variáveis,indica que há uma forte correlação entre elas,ou seja,se uma aumenta a outra aumenta proporcionalmente a correlação . E há o efeito inverso,isto é,se uma diminui,a outra aumenta,se a correlação é próxima de -1 . "
   ]
  },
  {
   "cell_type": "code",
   "execution_count": 7,
   "metadata": {},
   "outputs": [
    {
     "data": {
      "image/png": "[encoded data removed]",
      "text/plain": [
       "<Figure size 864x720 with 2 Axes>"
      ]
     },
     "metadata": {
      "needs_background": "light"
     },
     "output_type": "display_data"
    }
   ],
   "source": [
    "corr=varquantitativas.corr()\n",
    "plt.figure(figsize=(12,10))\n",
    "plt.imshow(corr,cmap='Blues',interpolation='none')  \n",
    "plt.colorbar()  \n",
    "plt.xticks(range(len(corr)), corr.columns)  \n",
    "plt.yticks(range(len(corr)), corr.columns)\n",
    "plt.suptitle(\"Correlação do faturamento de acordo com a região\")\n",
    "plt.show()  "
   ]
  },
  {
   "cell_type": "markdown",
   "metadata": {},
   "source": [
    "Nessa matriz quanto mais azul for o quadrado entre duas variáveis,maior será a correlação entre elas . Pode-se observar da matriz que as variáveis Vendas_AmericaDoNorte e Vendas_Europa tem uma correlação muito forte,maior que 0.9, com a variável venda global,o que é um indicio de que se o jogo tiver uma alto faturamento nessas regiões haverá uma alto faturamento global . A variável \"Vendas_Outros\" possui uma relação forte(maior que 0.7) com a \"Vendas_Global\",e \"Vendas_Japao\" há uma relação moderada . \n",
    "\n",
    "Agora que conhecemos a relação das vendas globais de acordo com as regiões,irei conhecer os jogos que tiveram o maior faturamento,porém antes de conhecermos quais são esses jogos,para efeito de comparação irei calcular quais jogos diferentes existem com o comando nunique . "
   ]
  },
  {
   "cell_type": "code",
   "execution_count": 8,
   "metadata": {},
   "outputs": [
    {
     "data": {
      "text/plain": [
       "11493"
      ]
     },
     "execution_count": 8,
     "metadata": {},
     "output_type": "execute_result"
    }
   ],
   "source": [
    "dados[\"Nome\"].nunique()"
   ]
  },
  {
   "cell_type": "markdown",
   "metadata": {},
   "source": [
    "De acordo com o resultado do comando,há 11493 diferentes jogos no dataset . Para que possamos conhecer quais são os dez que mais faturaram,irei agrupar pelo nome,pois pode ser que um jogo seja vendido em mais de uma plataforma,dessa forma os dez que mais faturaram são :"
   ]
  },
  {
   "cell_type": "code",
   "execution_count": 9,
   "metadata": {},
   "outputs": [
    {
     "data": {
      "text/html": [
       "<div>\n",
       "<style scoped>\n",
       "    .dataframe tbody tr th:only-of-type {\n",
       "        vertical-align: middle;\n",
       "    }\n",
       "\n",
       "    .dataframe tbody tr th {\n",
       "        vertical-align: top;\n",
       "    }\n",
       "\n",
       "    .dataframe thead th {\n",
       "        text-align: right;\n",
       "    }\n",
       "</style>\n",
       "<table border=\"1\" class=\"dataframe\">\n",
       "  <thead>\n",
       "    <tr style=\"text-align: right;\">\n",
       "      <th></th>\n",
       "      <th>Nome</th>\n",
       "      <th>Vendas_Global</th>\n",
       "    </tr>\n",
       "  </thead>\n",
       "  <tbody>\n",
       "    <tr>\n",
       "      <th>0</th>\n",
       "      <td>Wii Sports</td>\n",
       "      <td>82.74</td>\n",
       "    </tr>\n",
       "    <tr>\n",
       "      <th>1</th>\n",
       "      <td>Grand Theft Auto V</td>\n",
       "      <td>55.92</td>\n",
       "    </tr>\n",
       "    <tr>\n",
       "      <th>2</th>\n",
       "      <td>Super Mario Bros.</td>\n",
       "      <td>45.31</td>\n",
       "    </tr>\n",
       "    <tr>\n",
       "      <th>3</th>\n",
       "      <td>Tetris</td>\n",
       "      <td>35.84</td>\n",
       "    </tr>\n",
       "    <tr>\n",
       "      <th>4</th>\n",
       "      <td>Mario Kart Wii</td>\n",
       "      <td>35.82</td>\n",
       "    </tr>\n",
       "    <tr>\n",
       "      <th>5</th>\n",
       "      <td>Wii Sports Resort</td>\n",
       "      <td>33.00</td>\n",
       "    </tr>\n",
       "    <tr>\n",
       "      <th>6</th>\n",
       "      <td>Pokemon Red/Pokemon Blue</td>\n",
       "      <td>31.37</td>\n",
       "    </tr>\n",
       "    <tr>\n",
       "      <th>7</th>\n",
       "      <td>Call of Duty: Black Ops</td>\n",
       "      <td>31.03</td>\n",
       "    </tr>\n",
       "    <tr>\n",
       "      <th>8</th>\n",
       "      <td>Call of Duty: Modern Warfare 3</td>\n",
       "      <td>30.83</td>\n",
       "    </tr>\n",
       "    <tr>\n",
       "      <th>9</th>\n",
       "      <td>New Super Mario Bros.</td>\n",
       "      <td>30.01</td>\n",
       "    </tr>\n",
       "  </tbody>\n",
       "</table>\n",
       "</div>"
      ],
      "text/plain": [
       "                             Nome  Vendas_Global\n",
       "0                      Wii Sports          82.74\n",
       "1              Grand Theft Auto V          55.92\n",
       "2               Super Mario Bros.          45.31\n",
       "3                          Tetris          35.84\n",
       "4                  Mario Kart Wii          35.82\n",
       "5               Wii Sports Resort          33.00\n",
       "6        Pokemon Red/Pokemon Blue          31.37\n",
       "7         Call of Duty: Black Ops          31.03\n",
       "8  Call of Duty: Modern Warfare 3          30.83\n",
       "9           New Super Mario Bros.          30.01"
      ]
     },
     "execution_count": 9,
     "metadata": {},
     "output_type": "execute_result"
    }
   ],
   "source": [
    "maisvendidos=dados.groupby(\"Nome\")[\"Vendas_Global\"].sum().sort_values(ascending=False).head(10)\n",
    "maisvendidos=maisvendidos.to_frame()\n",
    "maisvendidos.reset_index(level=[\"Nome\"],inplace=True)\n",
    "maisvendidos"
   ]
  },
  {
   "cell_type": "markdown",
   "metadata": {},
   "source": [
    "Ao se analisar os jogos com maior faturamento,pode-se observar que o jogo que mais arrecadou foi Wii Sports,seguido por Grand Theft AutoV(Gta 5) e Super Mario Bros . Outra análise que pode ser feita,é que os jogos da Nintendo(Wii Sports,Super Mario Bros.,Mario Kart Wii,Wii Sports Resort,Pokemon Red/Pokemon Blue,New Super Mario Bros.) aparecem 6 vezes no top10 de maior faturamento . É de se destacar também que a franquia Call Of Duty aparece duas vezes no top10,com os jogos Call of Duty: Black Ops e Call of Duty: Modern Warfare 3\t. \n",
    "Após conhecermos os dez que mais arrecadaram é possivel analisar os dez que menos faturaram . "
   ]
  },
  {
   "cell_type": "code",
   "execution_count": 10,
   "metadata": {},
   "outputs": [
    {
     "data": {
      "text/html": [
       "<div>\n",
       "<style scoped>\n",
       "    .dataframe tbody tr th:only-of-type {\n",
       "        vertical-align: middle;\n",
       "    }\n",
       "\n",
       "    .dataframe tbody tr th {\n",
       "        vertical-align: top;\n",
       "    }\n",
       "\n",
       "    .dataframe thead th {\n",
       "        text-align: right;\n",
       "    }\n",
       "</style>\n",
       "<table border=\"1\" class=\"dataframe\">\n",
       "  <thead>\n",
       "    <tr style=\"text-align: right;\">\n",
       "      <th></th>\n",
       "      <th>Nome</th>\n",
       "      <th>Vendas_Global</th>\n",
       "    </tr>\n",
       "  </thead>\n",
       "  <tbody>\n",
       "    <tr>\n",
       "      <th>0</th>\n",
       "      <td>H2O+: Footprints in the Sand</td>\n",
       "      <td>0.01</td>\n",
       "    </tr>\n",
       "    <tr>\n",
       "      <th>1</th>\n",
       "      <td>Mahjong Taikai IV</td>\n",
       "      <td>0.01</td>\n",
       "    </tr>\n",
       "    <tr>\n",
       "      <th>2</th>\n",
       "      <td>Magicians Academy</td>\n",
       "      <td>0.01</td>\n",
       "    </tr>\n",
       "    <tr>\n",
       "      <th>3</th>\n",
       "      <td>Builder's Block</td>\n",
       "      <td>0.01</td>\n",
       "    </tr>\n",
       "    <tr>\n",
       "      <th>4</th>\n",
       "      <td>Bullet Soul: Tama Tamashii</td>\n",
       "      <td>0.01</td>\n",
       "    </tr>\n",
       "    <tr>\n",
       "      <th>5</th>\n",
       "      <td>Sora no Otoshimono: DokiDoki Summer Vacation</td>\n",
       "      <td>0.01</td>\n",
       "    </tr>\n",
       "    <tr>\n",
       "      <th>6</th>\n",
       "      <td>Soshite Kono Uchuu ni Kirameku Kimi no Shi XXX</td>\n",
       "      <td>0.01</td>\n",
       "    </tr>\n",
       "    <tr>\n",
       "      <th>7</th>\n",
       "      <td>Bunmei Kaika: Aoiza Ibunroku Saien</td>\n",
       "      <td>0.01</td>\n",
       "    </tr>\n",
       "    <tr>\n",
       "      <th>8</th>\n",
       "      <td>SoulCalibur Legends (JP sales)</td>\n",
       "      <td>0.01</td>\n",
       "    </tr>\n",
       "    <tr>\n",
       "      <th>9</th>\n",
       "      <td>SoulLink Extension</td>\n",
       "      <td>0.01</td>\n",
       "    </tr>\n",
       "  </tbody>\n",
       "</table>\n",
       "</div>"
      ],
      "text/plain": [
       "                                             Nome  Vendas_Global\n",
       "0                    H2O+: Footprints in the Sand           0.01\n",
       "1                               Mahjong Taikai IV           0.01\n",
       "2                               Magicians Academy           0.01\n",
       "3                                 Builder's Block           0.01\n",
       "4                      Bullet Soul: Tama Tamashii           0.01\n",
       "5    Sora no Otoshimono: DokiDoki Summer Vacation           0.01\n",
       "6  Soshite Kono Uchuu ni Kirameku Kimi no Shi XXX           0.01\n",
       "7              Bunmei Kaika: Aoiza Ibunroku Saien           0.01\n",
       "8                  SoulCalibur Legends (JP sales)           0.01\n",
       "9                              SoulLink Extension           0.01"
      ]
     },
     "execution_count": 10,
     "metadata": {},
     "output_type": "execute_result"
    }
   ],
   "source": [
    "menosvendidos=dados.groupby(\"Nome\")[\"Vendas_Global\"].sum().sort_values().head(10)\n",
    "menosvendidos=menosvendidos.to_frame()\n",
    "menosvendidos.reset_index(level=[\"Nome\"],inplace=True)\n",
    "menosvendidos"
   ]
  },
  {
   "cell_type": "markdown",
   "metadata": {},
   "source": [
    "Ao se analisar os 10 que menos arrecadaram,pode-se observar que eles empatam,porém o jogo H2O+: Footprints in the Sand\t aparece em primeiro lugar . Após conhecermos quais foram os focos que mais arrecadaram e menos arrecadaram,é possivel conhecer quais gêneros tiveram,em média,maior faturamento . "
   ]
  },
  {
   "cell_type": "code",
   "execution_count": 11,
   "metadata": {},
   "outputs": [],
   "source": [
    "generovenda=dados.groupby(\"Genero\")[\"Vendas_Global\"].mean().sort_values(ascending=True).index\n",
    "generovalorvenda=dados.groupby(\"Genero\")[\"Vendas_Global\"].mean().sort_values(ascending=True).values"
   ]
  },
  {
   "cell_type": "code",
   "execution_count": 12,
   "metadata": {},
   "outputs": [
    {
     "data": {
      "image/png": "[encoded data removed]",
      "text/plain": [
       "<Figure size 1080x720 with 1 Axes>"
      ]
     },
     "metadata": {
      "needs_background": "light"
     },
     "output_type": "display_data"
    }
   ],
   "source": [
    "plt.figure(figsize=(15,10))\n",
    "plt.barh(generovenda,generovalorvenda)\n",
    "plt.title(\"Faturamento médio de acordo com o gênero(Em milhões de dólares)\")\n",
    "plt.xlabel(\"Venda média em milhões de dólares\")\n",
    "plt.ylabel(\"Gênero\")\n",
    "plt.show()"
   ]
  },
  {
   "cell_type": "markdown",
   "metadata": {},
   "source": [
    "Ao se observar o gráfico,é possivel verificar que os gêneros que tiveram o maior faturamento médio foram plataforma,shooter(tiroteio),e Rolee-Playing . Enquanto que os gêneros que tiveram o menor faturamento médio foram os jogos de aventura,estratégia,e puzzle(Quebra-Cabeça) .\n",
    "Pode-se então conhecer quais foram as publicadoras de jogos que mais faturaram,porém assim como fiz com os jogos,irei calcular quantas publicadoras existem no banco de dados com o comando nunique . "
   ]
  },
  {
   "cell_type": "code",
   "execution_count": 13,
   "metadata": {},
   "outputs": [
    {
     "data": {
      "text/plain": [
       "578"
      ]
     },
     "execution_count": 13,
     "metadata": {},
     "output_type": "execute_result"
    }
   ],
   "source": [
    "dados[\"Publicadora\"].nunique()"
   ]
  },
  {
   "cell_type": "markdown",
   "metadata": {},
   "source": [
    "Há 578 publicadoras no banco de dados,sendo as 10 que mais faturaram são :"
   ]
  },
  {
   "cell_type": "code",
   "execution_count": 14,
   "metadata": {},
   "outputs": [
    {
     "data": {
      "text/html": [
       "<div>\n",
       "<style scoped>\n",
       "    .dataframe tbody tr th:only-of-type {\n",
       "        vertical-align: middle;\n",
       "    }\n",
       "\n",
       "    .dataframe tbody tr th {\n",
       "        vertical-align: top;\n",
       "    }\n",
       "\n",
       "    .dataframe thead th {\n",
       "        text-align: right;\n",
       "    }\n",
       "</style>\n",
       "<table border=\"1\" class=\"dataframe\">\n",
       "  <thead>\n",
       "    <tr style=\"text-align: right;\">\n",
       "      <th></th>\n",
       "      <th>Publicadora</th>\n",
       "      <th>Faturamento total(Em milhões de dólares)</th>\n",
       "    </tr>\n",
       "  </thead>\n",
       "  <tbody>\n",
       "    <tr>\n",
       "      <th>0</th>\n",
       "      <td>Nintendo</td>\n",
       "      <td>1786.56</td>\n",
       "    </tr>\n",
       "    <tr>\n",
       "      <th>1</th>\n",
       "      <td>Electronic Arts</td>\n",
       "      <td>1110.32</td>\n",
       "    </tr>\n",
       "    <tr>\n",
       "      <th>2</th>\n",
       "      <td>Activision</td>\n",
       "      <td>727.46</td>\n",
       "    </tr>\n",
       "    <tr>\n",
       "      <th>3</th>\n",
       "      <td>Sony Computer Entertainment</td>\n",
       "      <td>607.50</td>\n",
       "    </tr>\n",
       "    <tr>\n",
       "      <th>4</th>\n",
       "      <td>Ubisoft</td>\n",
       "      <td>474.72</td>\n",
       "    </tr>\n",
       "    <tr>\n",
       "      <th>5</th>\n",
       "      <td>Take-Two Interactive</td>\n",
       "      <td>399.54</td>\n",
       "    </tr>\n",
       "    <tr>\n",
       "      <th>6</th>\n",
       "      <td>THQ</td>\n",
       "      <td>340.77</td>\n",
       "    </tr>\n",
       "    <tr>\n",
       "      <th>7</th>\n",
       "      <td>Konami Digital Entertainment</td>\n",
       "      <td>283.64</td>\n",
       "    </tr>\n",
       "    <tr>\n",
       "      <th>8</th>\n",
       "      <td>Sega</td>\n",
       "      <td>272.99</td>\n",
       "    </tr>\n",
       "    <tr>\n",
       "      <th>9</th>\n",
       "      <td>Namco Bandai Games</td>\n",
       "      <td>254.09</td>\n",
       "    </tr>\n",
       "  </tbody>\n",
       "</table>\n",
       "</div>"
      ],
      "text/plain": [
       "                    Publicadora  Faturamento total(Em milhões de dólares)\n",
       "0                      Nintendo                                   1786.56\n",
       "1               Electronic Arts                                   1110.32\n",
       "2                    Activision                                    727.46\n",
       "3   Sony Computer Entertainment                                    607.50\n",
       "4                       Ubisoft                                    474.72\n",
       "5          Take-Two Interactive                                    399.54\n",
       "6                           THQ                                    340.77\n",
       "7  Konami Digital Entertainment                                    283.64\n",
       "8                          Sega                                    272.99\n",
       "9            Namco Bandai Games                                    254.09"
      ]
     },
     "execution_count": 14,
     "metadata": {},
     "output_type": "execute_result"
    }
   ],
   "source": [
    "publicadoramaiorfat=dados.groupby(\"Publicadora\")[\"Vendas_Global\"].sum().sort_values(ascending=False).reset_index(level=\"Publicadora\").head(10)\n",
    "publicadoramaiorfat.columns=[\"Publicadora\",\"Faturamento total(Em milhões de dólares)\"]\n",
    "publicadoramaiorfat"
   ]
  },
  {
   "cell_type": "markdown",
   "metadata": {},
   "source": [
    "Ao se analisar os dados das publicadoras com o maior faturamento,pode-se notar que a Nintendo é a publicadora de jogos com maior faturamento,com o faturamento de 1786 milhões,seguido por Eletronic Arts e Activision . Por fim,podemos conhecer as publicadoras com o menor faturamento . "
   ]
  },
  {
   "cell_type": "code",
   "execution_count": 15,
   "metadata": {},
   "outputs": [
    {
     "data": {
      "text/html": [
       "<div>\n",
       "<style scoped>\n",
       "    .dataframe tbody tr th:only-of-type {\n",
       "        vertical-align: middle;\n",
       "    }\n",
       "\n",
       "    .dataframe tbody tr th {\n",
       "        vertical-align: top;\n",
       "    }\n",
       "\n",
       "    .dataframe thead th {\n",
       "        text-align: right;\n",
       "    }\n",
       "</style>\n",
       "<table border=\"1\" class=\"dataframe\">\n",
       "  <thead>\n",
       "    <tr style=\"text-align: right;\">\n",
       "      <th></th>\n",
       "      <th>Publicadora</th>\n",
       "      <th>Faturamento total(Em milhões de dólares)</th>\n",
       "    </tr>\n",
       "  </thead>\n",
       "  <tbody>\n",
       "    <tr>\n",
       "      <th>0</th>\n",
       "      <td>Interworks Unlimited, Inc.</td>\n",
       "      <td>0.01</td>\n",
       "    </tr>\n",
       "    <tr>\n",
       "      <th>1</th>\n",
       "      <td>Inti Creates</td>\n",
       "      <td>0.01</td>\n",
       "    </tr>\n",
       "    <tr>\n",
       "      <th>2</th>\n",
       "      <td>Epic Games</td>\n",
       "      <td>0.01</td>\n",
       "    </tr>\n",
       "    <tr>\n",
       "      <th>3</th>\n",
       "      <td>Otomate</td>\n",
       "      <td>0.01</td>\n",
       "    </tr>\n",
       "    <tr>\n",
       "      <th>4</th>\n",
       "      <td>Takuyo</td>\n",
       "      <td>0.01</td>\n",
       "    </tr>\n",
       "    <tr>\n",
       "      <th>5</th>\n",
       "      <td>Ongakukan</td>\n",
       "      <td>0.01</td>\n",
       "    </tr>\n",
       "    <tr>\n",
       "      <th>6</th>\n",
       "      <td>UIG Entertainment</td>\n",
       "      <td>0.01</td>\n",
       "    </tr>\n",
       "    <tr>\n",
       "      <th>7</th>\n",
       "      <td>Media Entertainment</td>\n",
       "      <td>0.01</td>\n",
       "    </tr>\n",
       "    <tr>\n",
       "      <th>8</th>\n",
       "      <td>Piacci</td>\n",
       "      <td>0.01</td>\n",
       "    </tr>\n",
       "    <tr>\n",
       "      <th>9</th>\n",
       "      <td>Boost On</td>\n",
       "      <td>0.01</td>\n",
       "    </tr>\n",
       "  </tbody>\n",
       "</table>\n",
       "</div>"
      ],
      "text/plain": [
       "                  Publicadora  Faturamento total(Em milhões de dólares)\n",
       "0  Interworks Unlimited, Inc.                                      0.01\n",
       "1                Inti Creates                                      0.01\n",
       "2                  Epic Games                                      0.01\n",
       "3                     Otomate                                      0.01\n",
       "4                      Takuyo                                      0.01\n",
       "5                   Ongakukan                                      0.01\n",
       "6           UIG Entertainment                                      0.01\n",
       "7         Media Entertainment                                      0.01\n",
       "8                      Piacci                                      0.01\n",
       "9                    Boost On                                      0.01"
      ]
     },
     "execution_count": 15,
     "metadata": {},
     "output_type": "execute_result"
    }
   ],
   "source": [
    "publicadormenorfat=dados.groupby(\"Publicadora\")[\"Vendas_Global\"].sum().sort_values().reset_index(level=\"Publicadora\").head(10)\n",
    "publicadormenorfat.columns=[\"Publicadora\",\"Faturamento total(Em milhões de dólares)\"]\n",
    "publicadormenorfat"
   ]
  },
  {
   "cell_type": "markdown",
   "metadata": {},
   "source": [
    "As dez publicadoras que menos faturam possuem um faturamento de 0.01 milhão de doláres,sendo que  lista é composta por Interworks Unlimited, Inc.,Inti Creates,e Epic Games . Por fim,é possivel analisar quais foram as plataformas que mais faturam ."
   ]
  },
  {
   "cell_type": "code",
   "execution_count": 16,
   "metadata": {},
   "outputs": [
    {
     "data": {
      "image/png": "[encoded data removed]",
      "text/plain": [
       "<Figure size 1440x1080 with 1 Axes>"
      ]
     },
     "metadata": {
      "needs_background": "light"
     },
     "output_type": "display_data"
    }
   ],
   "source": [
    "plataformavalores=dados.groupby(\"Plataforma\")[\"Vendas_Global\"].sum().sort_values(ascending=False).values\n",
    "plataformaindex=dados.groupby(\"Plataforma\")[\"Vendas_Global\"].sum().sort_values(ascending=False).index\n",
    "plt.figure(figsize=(20,15))\n",
    "plt.bar(plataformaindex,plataformavalores)\n",
    "plt.title(\"Faturamento total de acordo com a plataforma\")\n",
    "plt.xlabel(\"Plataforma\")\n",
    "plt.ylabel(\"Faturamento total\")\n",
    "plt.show()"
   ]
  },
  {
   "cell_type": "markdown",
   "metadata": {},
   "source": [
    "Ao analisar o gráfico \"Faturamento total de acordo com a plataforma\",é possível observar que as plataformas que tiveram o maior faturamento em vendas de jogos foram PS2(Playstation2),X360(Xbox 360),e PS3(Playstation 3 ) . Enquanto que PCFX,GG,TG16 foram as que tiveram um faturamento menor . É possivel analisar como se deu o faturamento total de vendas de jogos de acordo com o ano que o jogo foi lançado . "
   ]
  },
  {
   "cell_type": "code",
   "execution_count": 17,
   "metadata": {},
   "outputs": [
    {
     "data": {
      "image/png": "[encoded data removed]",
      "text/plain": [
       "<Figure size 1440x576 with 1 Axes>"
      ]
     },
     "metadata": {
      "needs_background": "light"
     },
     "output_type": "display_data"
    }
   ],
   "source": [
    "ano=dados.groupby(\"Ano\")[\"Vendas_Global\"].sum().index\n",
    "faturamento=dados.groupby(\"Ano\")[\"Vendas_Global\"].sum().values\n",
    "plt.figure(figsize=(20,8))\n",
    "plt.plot(ano,faturamento)\n",
    "plt.title(\"Faturamento total de acordo com o ano do jogo\")\n",
    "plt.xlabel(\"Ano\")\n",
    "plt.ylabel(\"Faturamento(Em milhões de doláres)\")\n",
    "plt.show()"
   ]
  },
  {
   "cell_type": "markdown",
   "metadata": {},
   "source": [
    "Ao analisar o gráfico,é possível verificar que houve algumas oscilações no faturamento de acordo com o ano de lançamento do jogo,mas houve um tendência de alta entre a década de 80 até 2009 . Porém ,os jogos lançados nos últimos 5 anos vem tendo uma queda expressiva no faturamento .  "
   ]
  },
  {
   "cell_type": "markdown",
   "metadata": {},
   "source": [
    "#Conclusão :"
   ]
  },
  {
   "cell_type": "markdown",
   "metadata": {},
   "source": [
    "Logo,nesse projeto tentei entender um pouco sobre o mercado de jogos digitais,conhecendo os jogos,gêneros,publicadoras,e publicadora que mais e menos faturam . Pode-se observar que o jogo que mais faturou foi Wii Sports,o gênero que mais faturou foi plataforma,a publicadora que mais faturou foi a Nintendo,e também que os jogos do PS2 tiveram um maior faturamento . Enquanto que H2O+: Footprints foi o jogo que menos faturou,a plataforma que menos faturou foi PCFX . Além disso,as regiões da América do Norte e Europa tem uma relação muito alta com o faturamento dos jogos mundialmente,isto é,se um jogo tem um alto faturamento nessas regiões,haverá um alto faturamento global . É de salientar também que o mercado de vendas de jogos digitais tiveram uma tendência de sucesso entre os anos de 1980 a 2009 ,porém os jogos lançados nos últimos aparentam possuir uma queda no faturamento . "
   ]
  }
 ],
 "metadata": {
  "kernelspec": {
   "display_name": "Python 3",
   "language": "python",
   "name": "python3"
  },
  "language_info": {
   "codemirror_mode": {
    "name": "ipython",
    "version": 3
   },
   "file_extension": ".py",
   "mimetype": "text/x-python",
   "name": "python",
   "nbconvert_exporter": "python",
   "pygments_lexer": "ipython3",
   "version": "3.7.6"
  }
 },
 "nbformat": 4,
 "nbformat_minor": 4
}
